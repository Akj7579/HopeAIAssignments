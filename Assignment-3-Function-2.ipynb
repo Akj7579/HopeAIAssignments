{
 "cells": [
  {
   "cell_type": "code",
   "execution_count": 1,
   "id": "d01ab44c-3cf2-4086-80d6-e0df9d7570bc",
   "metadata": {},
   "outputs": [],
   "source": [
    "lists = [\"Machine Learning\",\"Neural Networks\",\"Vision\",\"Robotics\",\"Speech Processing\",\"Natural Language Processing\"]\n",
    "class SubfieldsInAI():\n",
    "    def Subfields(): \n",
    "        print(\"Sub-fields in AI are:\")\n",
    "        for i in lists:\n",
    "            print(i)      "
   ]
  },
  {
   "cell_type": "code",
   "execution_count": 2,
   "id": "238d9b73-ff48-4968-8a42-0d532d7d27a8",
   "metadata": {},
   "outputs": [
    {
     "name": "stdout",
     "output_type": "stream",
     "text": [
      "Sub-fields in AI are:\n",
      "Machine Learning\n",
      "Neural Networks\n",
      "Vision\n",
      "Robotics\n",
      "Speech Processing\n",
      "Natural Language Processing\n"
     ]
    }
   ],
   "source": [
    "SubfieldsInAI.Subfields()"
   ]
  },
  {
   "cell_type": "code",
   "execution_count": 5,
   "id": "31f0e274-0b65-483f-8c25-809427468e89",
   "metadata": {},
   "outputs": [],
   "source": [
    "class OddEven:\n",
    "    def OddEven():\n",
    "        num = int(input(\"Enter a number: \"))\n",
    "        if (num%2==0):\n",
    "            print(f\"{num} is Even number\")\n",
    "    \n",
    "        else:\n",
    "            print(f\"{num} is Odd number\")"
   ]
  },
  {
   "cell_type": "code",
   "execution_count": 7,
   "id": "7d57d160-caa2-49ca-8d4a-989cdd48e197",
   "metadata": {},
   "outputs": [
    {
     "name": "stdin",
     "output_type": "stream",
     "text": [
      "Enter a number:  52452\n"
     ]
    },
    {
     "name": "stdout",
     "output_type": "stream",
     "text": [
      "52452 is Even number\n"
     ]
    }
   ],
   "source": [
    "OddEven.OddEven()"
   ]
  },
  {
   "cell_type": "code",
   "execution_count": 8,
   "id": "f20f4fee-321a-4201-93ca-72d48072e898",
   "metadata": {},
   "outputs": [],
   "source": [
    "class ElegiblityForMarriage:\n",
    "    def Elegible():\n",
    "        Gender = input(\"Your Gender:\")\n",
    "        Age = int(input(\"Your Age:\"))\n",
    "        if(Gender == \"Male\" and Age>=21):\n",
    "            print(\"You are Eligible\");\n",
    "    \n",
    "        elif(Gender == \"Female\" and Age>=18):\n",
    "            print(\"You are Eligible\");\n",
    "    \n",
    "        else:\n",
    "            print(\"You are not Eligible\")"
   ]
  },
  {
   "cell_type": "code",
   "execution_count": 9,
   "id": "b9de1b25-2728-4309-a1be-a80e19e079e1",
   "metadata": {},
   "outputs": [
    {
     "name": "stdin",
     "output_type": "stream",
     "text": [
      "Your Gender: Male\n",
      "Your Age: 29\n"
     ]
    },
    {
     "name": "stdout",
     "output_type": "stream",
     "text": [
      "You are Eligible\n"
     ]
    }
   ],
   "source": [
    "ElegiblityForMarriage.Elegible()"
   ]
  },
  {
   "cell_type": "code",
   "execution_count": 12,
   "id": "c08054c8-212d-451c-b532-ffe6c7850b07",
   "metadata": {},
   "outputs": [],
   "source": [
    "class FindPercent:\n",
    "    def percentage():\n",
    "        Subject1=int(input(\"Subject1=\"))\n",
    "        Subject2=int(input(\"Subject2=\"))\n",
    "        Subject3=int(input(\"Subject3=\"))\n",
    "        Subject4=int(input(\"Subject4=\"))\n",
    "        Subject5=int(input(\"Subject5=\"))\n",
    "        Total = Subject1+Subject2+Subject3+Subject4+Subject5\n",
    "        Percentage = (Total)/5; \n",
    "        print(\"Total:\",Total)\n",
    "        print(\"Percentage\",Percentage)\n",
    "        "
   ]
  },
  {
   "cell_type": "code",
   "execution_count": 13,
   "id": "b5cd3d64-ec68-4fc5-8fd1-e5a2b7ef6e96",
   "metadata": {},
   "outputs": [
    {
     "name": "stdin",
     "output_type": "stream",
     "text": [
      "Subject1= 98\n",
      "Subject2= 87\n",
      "Subject3= 95\n",
      "Subject4= 95\n",
      "Subject5= 93\n"
     ]
    },
    {
     "name": "stdout",
     "output_type": "stream",
     "text": [
      "Total: 468\n",
      "Percentage 93.6\n"
     ]
    }
   ],
   "source": [
    "FindPercent.percentage()"
   ]
  },
  {
   "cell_type": "code",
   "execution_count": 15,
   "id": "92e09596-4391-4357-91dc-f723e5473837",
   "metadata": {},
   "outputs": [],
   "source": [
    "class triangle:\n",
    "    def triangle():\n",
    "        Height = int(input(\"Height:\"))\n",
    "        Breadth = int(input(\"Breadth:\"))\n",
    "        print(\"Area formula: (Height*Breadth)/2\")\n",
    "        Area=(Height*Breadth)/2;\n",
    "        print(\"Area of Triangle:\",Area)\n",
    "    \n",
    "        Height1 = int(input(\"Height1:\"))\n",
    "        Height2 = int(input(\"Height2:\"))\n",
    "        Breadth = int(input(\"Breadth\"))\n",
    "        print(\"Perimeter formula: Height1+Height2+Breadth\");\n",
    "        Perimeter = Height1+Height2+Breadth;\n",
    "        print(\"Perimeter of Triangle:\",Perimeter)"
   ]
  },
  {
   "cell_type": "code",
   "execution_count": 16,
   "id": "ddd850b7-c490-4386-8c3b-faa46308fe9f",
   "metadata": {},
   "outputs": [
    {
     "name": "stdin",
     "output_type": "stream",
     "text": [
      "Height: 32\n",
      "Breadth: 34\n"
     ]
    },
    {
     "name": "stdout",
     "output_type": "stream",
     "text": [
      "Area formula: (Height*Breadth)/2\n",
      "Area of Triangle: 544.0\n"
     ]
    },
    {
     "name": "stdin",
     "output_type": "stream",
     "text": [
      "Height1: 2\n",
      "Height2: 4\n",
      "Breadth 4\n"
     ]
    },
    {
     "name": "stdout",
     "output_type": "stream",
     "text": [
      "Perimeter formula: Height1+Height2+Breadth\n",
      "Perimeter of Triangle: 10\n"
     ]
    }
   ],
   "source": [
    "triangle.triangle()"
   ]
  },
  {
   "cell_type": "code",
   "execution_count": null,
   "id": "78f287bf-20a0-4d8f-b401-ca2a6e4c7dc6",
   "metadata": {},
   "outputs": [],
   "source": []
  }
 ],
 "metadata": {
  "kernelspec": {
   "display_name": "Python 3 (ipykernel)",
   "language": "python",
   "name": "python3"
  },
  "language_info": {
   "codemirror_mode": {
    "name": "ipython",
    "version": 3
   },
   "file_extension": ".py",
   "mimetype": "text/x-python",
   "name": "python",
   "nbconvert_exporter": "python",
   "pygments_lexer": "ipython3",
   "version": "3.12.3"
  }
 },
 "nbformat": 4,
 "nbformat_minor": 5
}
