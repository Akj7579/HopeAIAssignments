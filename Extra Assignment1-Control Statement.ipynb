{
 "cells": [
  {
   "cell_type": "code",
   "execution_count": 1,
   "id": "b6b62c29-3904-49ae-a872-0ac033561ee0",
   "metadata": {},
   "outputs": [
    {
     "name": "stdout",
     "output_type": "stream",
     "text": [
      "HOPE AI\n"
     ]
    }
   ],
   "source": [
    "print(\"HOPE AI\")"
   ]
  },
  {
   "cell_type": "code",
   "execution_count": 2,
   "id": "9ee32957-fe67-451c-b21f-9b78873cb20f",
   "metadata": {},
   "outputs": [
    {
     "name": "stdin",
     "output_type": "stream",
     "text": [
      "Enter your institute name? HOPE AI\n"
     ]
    }
   ],
   "source": [
    "institute_name = input(\"Enter your institute name?\")"
   ]
  },
  {
   "cell_type": "code",
   "execution_count": 3,
   "id": "709b373a-713b-4497-955a-f573e44525a0",
   "metadata": {},
   "outputs": [
    {
     "name": "stdin",
     "output_type": "stream",
     "text": [
      "Enter your name: Abin\n",
      "Enter your age: 28\n",
      "Enter your school name: MG University, Kottayam\n",
      "Enter your degree:  M.Sc Physics\n"
     ]
    }
   ],
   "source": [
    "name = input(\"Enter your name:\")\n",
    "age = int(input(\"Enter your age:\"))\n",
    "school = input(\"Enter your school name:\")\n",
    "degree = input(\"Enter your degree: \")"
   ]
  },
  {
   "cell_type": "code",
   "execution_count": 4,
   "id": "03aa9f8d-6cfc-4da1-b1fd-d5f9b1779cc3",
   "metadata": {},
   "outputs": [],
   "source": [
    "#Addition"
   ]
  },
  {
   "cell_type": "code",
   "execution_count": 5,
   "id": "276425d0-1798-45bf-9e62-e46e64919356",
   "metadata": {},
   "outputs": [
    {
     "name": "stdin",
     "output_type": "stream",
     "text": [
      "a= 43\n",
      "b= 34\n"
     ]
    },
    {
     "name": "stdout",
     "output_type": "stream",
     "text": [
      "add = 77\n"
     ]
    }
   ],
   "source": [
    "a=int(input(\"a=\"))\n",
    "b=int(input(\"b=\"))\n",
    "add = a+b;\n",
    "print(\"add =\",add)"
   ]
  },
  {
   "cell_type": "code",
   "execution_count": 6,
   "id": "1f1137c1-7aa1-4d9b-b2b2-f1bf3375dd9b",
   "metadata": {},
   "outputs": [],
   "source": [
    "#Subtraction"
   ]
  },
  {
   "cell_type": "code",
   "execution_count": 7,
   "id": "5bcc46f8-e33f-4313-9daa-44337611c095",
   "metadata": {},
   "outputs": [
    {
     "name": "stdin",
     "output_type": "stream",
     "text": [
      "a= 43\n",
      "b= 34\n"
     ]
    },
    {
     "name": "stdout",
     "output_type": "stream",
     "text": [
      "Sub = 9\n"
     ]
    }
   ],
   "source": [
    "a=int(input(\"a=\"))\n",
    "b=int(input(\"b=\"))\n",
    "sub = a-b;\n",
    "print(\"Sub =\",sub)"
   ]
  },
  {
   "cell_type": "code",
   "execution_count": 8,
   "id": "904f4bfc-159f-4248-b9a9-44b722b19115",
   "metadata": {},
   "outputs": [],
   "source": [
    "#Multiplication"
   ]
  },
  {
   "cell_type": "code",
   "execution_count": 10,
   "id": "2ab35684-e6c0-4055-9b09-6ab33e61319d",
   "metadata": {},
   "outputs": [
    {
     "name": "stdin",
     "output_type": "stream",
     "text": [
      "a= 63\n",
      "b= 97\n"
     ]
    },
    {
     "name": "stdout",
     "output_type": "stream",
     "text": [
      "Mul = 6111\n"
     ]
    }
   ],
   "source": [
    "a=int(input(\"a=\"))\n",
    "b=int(input(\"b=\"))\n",
    "mul = a*b;\n",
    "print(\"Mul =\",mul)"
   ]
  },
  {
   "cell_type": "code",
   "execution_count": 11,
   "id": "742977ad-4a8d-4b4e-8cab-a28932a6281d",
   "metadata": {},
   "outputs": [],
   "source": [
    " #Division"
   ]
  },
  {
   "cell_type": "code",
   "execution_count": 12,
   "id": "7e7031f7-e8a6-4794-8d48-8be3b0e3f91d",
   "metadata": {},
   "outputs": [
    {
     "name": "stdin",
     "output_type": "stream",
     "text": [
      "a= 76\n",
      "b= 31\n"
     ]
    },
    {
     "name": "stdout",
     "output_type": "stream",
     "text": [
      "Float Div = 2.4516129032258065\n"
     ]
    }
   ],
   "source": [
    "a=int(input(\"a=\"))\n",
    "b=int(input(\"b=\"))\n",
    "div = a/b;\n",
    "print(\"Float Div =\",div)"
   ]
  },
  {
   "cell_type": "code",
   "execution_count": 13,
   "id": "1784c6a5-5242-4e0e-96be-e5fe2fe81ca7",
   "metadata": {},
   "outputs": [
    {
     "name": "stdin",
     "output_type": "stream",
     "text": [
      "a= 76\n",
      "b= 31\n"
     ]
    },
    {
     "name": "stdout",
     "output_type": "stream",
     "text": [
      "Floor Div = 2\n"
     ]
    }
   ],
   "source": [
    "a=int(input(\"a=\"))\n",
    "b=int(input(\"b=\"))\n",
    "div = a//b;\n",
    "print(\"Floor Div =\",div)"
   ]
  },
  {
   "cell_type": "code",
   "execution_count": 14,
   "id": "492112cf-dd7f-4e28-a220-b79621d0e222",
   "metadata": {},
   "outputs": [],
   "source": [
    "#Modulo"
   ]
  },
  {
   "cell_type": "code",
   "execution_count": 16,
   "id": "a4b3c563-abae-40b1-9d9e-03bf9199d84f",
   "metadata": {},
   "outputs": [
    {
     "name": "stdin",
     "output_type": "stream",
     "text": [
      "a= 76\n",
      "b= 31\n"
     ]
    },
    {
     "name": "stdout",
     "output_type": "stream",
     "text": [
      "Modulo = 14\n"
     ]
    }
   ],
   "source": [
    "a=int(input(\"a=\"))\n",
    "b=int(input(\"b=\"))\n",
    "Mod = a%b;\n",
    "print(\"Modulo =\",Mod)"
   ]
  },
  {
   "cell_type": "code",
   "execution_count": 17,
   "id": "72674790-ed2d-4471-b712-904b8a21c1a7",
   "metadata": {},
   "outputs": [],
   "source": [
    "#Power"
   ]
  },
  {
   "cell_type": "code",
   "execution_count": 18,
   "id": "ffe18ad0-ace4-425f-bd29-7da8c40412de",
   "metadata": {},
   "outputs": [
    {
     "name": "stdin",
     "output_type": "stream",
     "text": [
      "a= 4\n",
      "b= 4\n"
     ]
    },
    {
     "name": "stdout",
     "output_type": "stream",
     "text": [
      "Power =  256\n"
     ]
    }
   ],
   "source": [
    "a = int(input(\"a=\"))\n",
    "b= int(input(\"b=\"))\n",
    "pow = a**b;\n",
    "print(\"Power = \",pow)"
   ]
  },
  {
   "cell_type": "code",
   "execution_count": null,
   "id": "e2bf1410-4bd5-4c34-972d-dcc3ffb6f3b2",
   "metadata": {},
   "outputs": [],
   "source": []
  }
 ],
 "metadata": {
  "kernelspec": {
   "display_name": "Python 3 (ipykernel)",
   "language": "python",
   "name": "python3"
  },
  "language_info": {
   "codemirror_mode": {
    "name": "ipython",
    "version": 3
   },
   "file_extension": ".py",
   "mimetype": "text/x-python",
   "name": "python",
   "nbconvert_exporter": "python",
   "pygments_lexer": "ipython3",
   "version": "3.12.3"
  }
 },
 "nbformat": 4,
 "nbformat_minor": 5
}
