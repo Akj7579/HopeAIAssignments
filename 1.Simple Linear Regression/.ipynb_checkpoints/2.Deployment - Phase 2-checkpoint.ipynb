{
 "cells": [
  {
   "cell_type": "code",
   "execution_count": 1,
   "id": "1b53e948-3bef-4279-bd1c-35b7ba58b921",
   "metadata": {},
   "outputs": [],
   "source": [
    "import pickle #import pickle library for reading the file"
   ]
  },
  {
   "cell_type": "code",
   "execution_count": 2,
   "id": "16238188-3156-4da0-9572-e4e8caeb0ce2",
   "metadata": {},
   "outputs": [
    {
     "name": "stderr",
     "output_type": "stream",
     "text": [
      "C:\\Users\\abin.k\\AppData\\Local\\Programs\\Python\\Python312\\Lib\\site-packages\\sklearn\\base.py:493: UserWarning: X does not have valid feature names, but LinearRegression was fitted with feature names\n",
      "  warnings.warn(\n"
     ]
    }
   ],
   "source": [
    "loaded_model = pickle.load(open(\"finalized_model_linear.sav\",'rb')) #once deployment file is created again loaded it with read binary access\n",
    "result = loaded_model.predict([[13]]) #giving a data to check the output predicted by Model"
   ]
  },
  {
   "cell_type": "code",
   "execution_count": 3,
   "id": "2a75a687-6b66-4cb4-a29f-c4144d32d332",
   "metadata": {},
   "outputs": [
    {
     "data": {
      "text/plain": [
       "array([[148460.78806172]])"
      ]
     },
     "execution_count": 3,
     "metadata": {},
     "output_type": "execute_result"
    }
   ],
   "source": [
    "result #printing predicted result"
   ]
  },
  {
   "cell_type": "code",
   "execution_count": 5,
   "id": "05c1d4cf-eb6a-46f8-9497-81580341654b",
   "metadata": {},
   "outputs": [
    {
     "name": "stderr",
     "output_type": "stream",
     "text": [
      "C:\\Users\\abin.k\\AppData\\Local\\Programs\\Python\\Python312\\Lib\\site-packages\\sklearn\\base.py:493: UserWarning: X does not have valid feature names, but LinearRegression was fitted with feature names\n",
      "  warnings.warn(\n"
     ]
    },
    {
     "data": {
      "text/plain": [
       "array([[26777.3913412]])"
      ]
     },
     "execution_count": 5,
     "metadata": {},
     "output_type": "execute_result"
    }
   ],
   "source": [
    "#checking intercept value ie calculating salary for a fresher\n",
    "\n",
    "r=loaded_model.predict([[0]])\n",
    "r"
   ]
  },
  {
   "cell_type": "code",
   "execution_count": null,
   "id": "2f4d4580-5c36-4f32-9af2-e98a5ef7f875",
   "metadata": {},
   "outputs": [],
   "source": []
  }
 ],
 "metadata": {
  "kernelspec": {
   "display_name": "Python 3 (ipykernel)",
   "language": "python",
   "name": "python3"
  },
  "language_info": {
   "codemirror_mode": {
    "name": "ipython",
    "version": 3
   },
   "file_extension": ".py",
   "mimetype": "text/x-python",
   "name": "python",
   "nbconvert_exporter": "python",
   "pygments_lexer": "ipython3",
   "version": "3.12.3"
  }
 },
 "nbformat": 4,
 "nbformat_minor": 5
}
