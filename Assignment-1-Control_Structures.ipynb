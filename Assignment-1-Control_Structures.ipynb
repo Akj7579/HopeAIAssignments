{
 "cells": [
  {
   "cell_type": "code",
   "execution_count": 1,
   "id": "56ee89cd-ea80-4e1a-9c2c-c796fc1cfc70",
   "metadata": {},
   "outputs": [
    {
     "name": "stdout",
     "output_type": "stream",
     "text": [
      "Welcome to Assignment - 1\n"
     ]
    }
   ],
   "source": [
    "print(\"Welcome to Assignment - 1\")"
   ]
  },
  {
   "cell_type": "code",
   "execution_count": 4,
   "id": "1579cf42-ed93-48a0-ab35-8ddbacb78897",
   "metadata": {},
   "outputs": [
    {
     "name": "stdin",
     "output_type": "stream",
     "text": [
      "Num1= 10\n",
      "Num2= 20\n"
     ]
    },
    {
     "name": "stdout",
     "output_type": "stream",
     "text": [
      "Add =  30\n"
     ]
    }
   ],
   "source": [
    "Num1 = int(input(\"Num1=\"));\n",
    "Num2 = int(input(\"Num2=\"));\n",
    "Add = Num1+Num2;\n",
    "# print(\"Num1 = \",Num1);\n",
    "# print(\"Num2 = \",Num2);\n",
    "print(\"Add = \",Num1+Num2)"
   ]
  },
  {
   "cell_type": "code",
   "execution_count": null,
   "id": "c6311597-06e9-46ad-afab-f0e02b865bc9",
   "metadata": {},
   "outputs": [],
   "source": [
    "#Body Mass Index"
   ]
  },
  {
   "cell_type": "code",
   "execution_count": 5,
   "id": "ee8fa224-bafa-4f39-9d8f-d40c056066fe",
   "metadata": {},
   "outputs": [
    {
     "name": "stdin",
     "output_type": "stream",
     "text": [
      "Enter the BMI Index: 34\n"
     ]
    },
    {
     "name": "stdout",
     "output_type": "stream",
     "text": [
      "Very Overweight\n"
     ]
    }
   ],
   "source": [
    "BMI = int(input(\"Enter the BMI Index:\"));\n",
    "\n",
    "\n",
    "if (BMI<18.5):\n",
    "    print(\"Underweight\");\n",
    "elif(BMI<24.5):\n",
    "    print(\"Normal Weight\");\n",
    "\n",
    "elif(BMI<30):\n",
    "    print(\"Slight Overweight\");\n",
    "\n",
    "elif(BMI<35):\n",
    "    print(\"Very Overweight\");\n",
    "\n",
    "elif(BMI<40):\n",
    "    print(\"Morbid Overweight\");\n",
    "else:\n",
    "    print(\"Dangerous Overweight\");\n",
    "    "
   ]
  },
  {
   "cell_type": "code",
   "execution_count": null,
   "id": "211484d9-2e77-47fa-9d5b-62ee003c9faa",
   "metadata": {},
   "outputs": [],
   "source": []
  }
 ],
 "metadata": {
  "kernelspec": {
   "display_name": "Python 3 (ipykernel)",
   "language": "python",
   "name": "python3"
  },
  "language_info": {
   "codemirror_mode": {
    "name": "ipython",
    "version": 3
   },
   "file_extension": ".py",
   "mimetype": "text/x-python",
   "name": "python",
   "nbconvert_exporter": "python",
   "pygments_lexer": "ipython3",
   "version": "3.12.3"
  }
 },
 "nbformat": 4,
 "nbformat_minor": 5
}
