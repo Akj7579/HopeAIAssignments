{
 "cells": [
  {
   "cell_type": "code",
   "execution_count": 3,
   "id": "7deef6d0-bbf7-452e-b757-eec012a6a476",
   "metadata": {},
   "outputs": [
    {
     "name": "stdout",
     "output_type": "stream",
     "text": [
      "0\n",
      "1\n",
      "2\n",
      "3\n",
      "4\n",
      "5\n",
      "6\n",
      "7\n",
      "8\n",
      "9\n",
      "10\n",
      "11\n",
      "12\n",
      "13\n",
      "14\n",
      "15\n",
      "16\n",
      "17\n",
      "18\n",
      "19\n"
     ]
    }
   ],
   "source": [
    "for i in range(0,20):\n",
    "    print(i);"
   ]
  },
  {
   "cell_type": "code",
   "execution_count": 7,
   "id": "4aaee44c-5a5f-4a55-8a9b-3a10085eb818",
   "metadata": {},
   "outputs": [
    {
     "name": "stdout",
     "output_type": "stream",
     "text": [
      "10 11 12 13 14 15 16 17 18 19 20 "
     ]
    }
   ],
   "source": [
    "for i in range (10,21):\n",
    "    print(i, end=\" \")"
   ]
  },
  {
   "cell_type": "code",
   "execution_count": 21,
   "id": "30fff211-c040-41cf-acda-0540a8bdd11f",
   "metadata": {},
   "outputs": [
    {
     "name": "stdout",
     "output_type": "stream",
     "text": [
      "[10, 20, 14, 55, 43, 87, 76]\n"
     ]
    }
   ],
   "source": [
    "lists = [10, 20, 14, 55, 43, 87, 76];\n",
    "print(lists)"
   ]
  },
  {
   "cell_type": "code",
   "execution_count": 23,
   "id": "0a2203e7-412f-43f2-a539-d53891154135",
   "metadata": {},
   "outputs": [
    {
     "name": "stdout",
     "output_type": "stream",
     "text": [
      "Number of items in the list: 7\n"
     ]
    }
   ],
   "source": [
    "print(\"Number of items in the list:\", len(lists))"
   ]
  },
  {
   "cell_type": "code",
   "execution_count": null,
   "id": "aa0dfaba-d3ff-4bd7-9023-36997349343b",
   "metadata": {},
   "outputs": [],
   "source": []
  }
 ],
 "metadata": {
  "kernelspec": {
   "display_name": "Python 3 (ipykernel)",
   "language": "python",
   "name": "python3"
  },
  "language_info": {
   "codemirror_mode": {
    "name": "ipython",
    "version": 3
   },
   "file_extension": ".py",
   "mimetype": "text/x-python",
   "name": "python",
   "nbconvert_exporter": "python",
   "pygments_lexer": "ipython3",
   "version": "3.12.3"
  }
 },
 "nbformat": 4,
 "nbformat_minor": 5
}
